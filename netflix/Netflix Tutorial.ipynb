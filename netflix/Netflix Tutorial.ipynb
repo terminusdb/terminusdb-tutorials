{
 "cells": [
  {
   "cell_type": "markdown",
   "id": "fde2d258",
   "metadata": {},
   "source": [
    "[A Netflix dataset](https://www.kaggle.com/shivamb/netflix-shows), available as CSV file, will be imported into TerminusDB using the Python client. Instructions to install Python client can be found in the [repository](https://github.com/terminusdb/terminusdb-client-python).\n",
    "\n",
    "## Importing libraries\n",
    "Required libraries must be imported at first, including:\n",
    "\n",
    "- TerminusDB (Python client)\n",
    "- pandas\n",
    "- tqdm\n",
    "- tempfile\n",
    "- random"
   ]
  },
  {
   "cell_type": "code",
   "execution_count": null,
   "id": "8f039d0e",
   "metadata": {},
   "outputs": [],
   "source": [
    "from typing import  Set, Optional\n",
    "from terminusdb_client import Client\n",
    "from terminusdb_client.woqlschema.woql_schema import (\n",
    "    DocumentTemplate,\n",
    "    EnumTemplate,\n",
    "    WOQLSchema,\n",
    "    LexicalKey,\n",
    ")\n",
    "\n",
    "import pandas as pd\n",
    "from tqdm import tqdm\n",
    "import tempfile\n",
    "import random"
   ]
  },
  {
   "cell_type": "markdown",
   "id": "0a52823a",
   "metadata": {},
   "source": [
    "## Schema definition\n",
    "Once columns in the dataset are identified, schema must be created based on that information. Netflix dataset contains the following columns:\n",
    "\n",
    "- title\n",
    "- type\n",
    "- director\n",
    "- cast\n",
    "- country\n",
    "- release_year\n",
    "- rating\n",
    "- duration\n",
    "- listed_in\n",
    "- description\n",
    "- date_added\n",
    "\n",
    "From which there would be one main class, `Content`, `User` class, and two Enums, `Content_Type` and `Rating`."
   ]
  },
  {
   "cell_type": "code",
   "execution_count": null,
   "id": "25896279",
   "metadata": {},
   "outputs": [],
   "source": [
    "\n",
    "schema = WOQLSchema()\n",
    "\n",
    "class Content(DocumentTemplate):\n",
    "    _schema = schema\n",
    "    title: str\n",
    "    type_of: \"Content_Type\"\n",
    "    director: Optional[str]\n",
    "    cast: Optional[str]\n",
    "    country_of_origin: Optional[str]\n",
    "    release_year: int\n",
    "    rating: \"Rating\"\n",
    "    duration: str\n",
    "    listed_in: str\n",
    "    description: str\n",
    "    date_added: Optional[str]\n",
    "\n",
    "class User(DocumentTemplate):\n",
    "    _schema = schema\n",
    "    _key = LexicalKey(keys=\"id\")\n",
    "    _base = \"User\"\n",
    "    id : str\n",
    "    watched_contents: Set[\"Content\"]\n",
    "\n",
    "class Content_Type(EnumTemplate):\n",
    "    _schema = schema\n",
    "    TV_Show = \"TV Show\"\n",
    "    Movie = \"Movie\"\n",
    "\n",
    "class Rating(EnumTemplate):\n",
    "    _schema = schema\n",
    "    TV_MA = \"TV-MA\"\n",
    "    R = ()\n",
    "    PG_13 = \"PG-13\"\n",
    "    TV_14 = \"TV-14\"\n",
    "    TV_PG = \"TV-PG\"\n",
    "    NR = ()\n",
    "    TV_G = \"TV-G\"\n",
    "    TV_Y = \"TV-Y\"\n",
    "    TV_Y7 = \"TV-Y7\"\n",
    "    TY = ()\n",
    "    TY_7 = \"TY-7\"\n",
    "    PG = ()\n",
    "    G = ()\n",
    "    NC_17 = \"NC-17\"\n",
    "    TV_Y7_FV = \"TV-Y7-FV\"\n",
    "    UR = ()\n"
   ]
  },
  {
   "cell_type": "markdown",
   "id": "c620853e",
   "metadata": {},
   "source": [
    "## Reading and importing data\n",
    "Dataset will be read using `pandas` and inserted into TerminusDB by calling the `insert_content_data`, `insert_user_data` fucntions. To avoid `Connection Timed Out` errors, dataset will be read in chunks. Every chunk will be processed individually through the `read_data` function, where some additional validations will be made before importing the data."
   ]
  },
  {
   "cell_type": "code",
   "execution_count": null,
   "id": "16efa889",
   "metadata": {},
   "outputs": [],
   "source": [
    "def insert_content_data(client, url):\n",
    "    df = pd.read_csv(url, chunksize=1000)\n",
    "    for chunk in tqdm(df, desc='Transfering data'):\n",
    "        csv = tempfile.NamedTemporaryFile()\n",
    "        chunk.to_csv(csv)\n",
    "        netflix_content = read_data(csv.name)\n",
    "        client.insert_document(netflix_content, commit_msg=\"Adding all Netflix content\")\n",
    "\n",
    "# We will generate and insert random 50 users using following function\n",
    "def insert_user_data(contents):\n",
    "    users = []\n",
    "    for i in range(0,50):\n",
    "        randomlist = random.sample(range(1, 50), i%10)\n",
    "        watched_contents = set()\n",
    "        for index in randomlist:\n",
    "            watched_contents.add(schema.import_objects(contents[index]))\n",
    "\n",
    "        users.append(User(id=str(i), watched_contents = watched_contents))\n",
    "\n",
    "    client.insert_document(users, commit_msg=\"Adding users\")\n",
    "\n",
    "def read_data(csv):\n",
    "    records = []\n",
    "    df = pd.read_csv(csv)\n",
    "    for index, row in df.iterrows():\n",
    "\n",
    "        type_of = row['type'].replace(\" \", \"_\")\n",
    "        rating = \"NR\" if pd.isna(row['rating']) else row['rating'].replace(\"-\", \"_\")\n",
    "\n",
    "        records.append(Content(title=row['title'], type_of=Content_Type[type_of], director=str(row['director']), cast=str(row['cast']), country=str(row['country']), release_year=row['release_year'], rating=Rating[rating], duration=row['duration'], listed_in=row['listed_in'], description=row['description'], date_added=str(row['date_added'])))\n",
    "\n",
    "    return records"
   ]
  },
  {
   "cell_type": "markdown",
   "id": "9575d733",
   "metadata": {},
   "source": [
    "## Database connection\n",
    "You must established a connection to either a local instance of TerminusDB Server (running at http://127.0.0.1:6363) or a TerminusX account, then create a database named `Netflix`. The schema defined above is inserted into TerminusDB by calling the `insert_document` method defined in the Python client. Finally, `insert data` function is called and first 10 records of the `Netflix` database are printed. The `team` variable refers to the team associated with your TerminusX account, the value must be replaced accordingly. An API key is required to use TerminusX. Follow instructions [here](https://docs.terminusdb.com/v10.0/#/terminusx/get-your-api-key) to get your API key. Don't forget to set the `TERMINUSDB_ACCESS_TOKEN` environment variable and assign your API key as value."
   ]
  },
  {
   "cell_type": "code",
   "execution_count": null,
   "id": "db256b2f",
   "metadata": {},
   "outputs": [],
   "source": [
    "if __name__ == \"__main__\":\n",
    "    db_id = \"Netflix\"\n",
    "    url = \"netflix.csv\"\n",
    "\n",
    "    # TODO: change the team name \n",
    "    team = \"TeamName\"\n",
    "    client = Client(\"https://cloud.terminusdb.com/\"+team)\n",
    "    \n",
    "    try:\n",
    "        client.connect(team=team, use_token=True)\n",
    "        client.create_database(db_id, label = \"Netflix Graph\", description = \"Create a graph with Netflix data\")\n",
    "    except Exception:\n",
    "        client.connect(db=db_id, team=team, use_token=True)\n",
    "\n",
    "    schema.commit(client, commit_msg = \"Adding Netflix Schema\")\n",
    "    \n",
    "    insert_content_data(client, url)\n",
    "\n",
    "    contents = client.query_document({\"@type\"  : \"Content\"}, count=50)\n",
    "\n",
    "    insert_user_data(list(contents))"
   ]
  },
  {
   "cell_type": "markdown",
   "id": "462e0f4c",
   "metadata": {},
   "source": [
    "## Query documents\n",
    "Get all documents:"
   ]
  },
  {
   "cell_type": "code",
   "execution_count": null,
   "id": "0d6f7c2b",
   "metadata": {},
   "outputs": [],
   "source": [
    "documents = client.get_all_documents()\n",
    "\n",
    "# documents comes back as a iterable that can be convert into a list\n",
    "print(\"All documents\")\n",
    "print(list(documents))"
   ]
  },
  {
   "cell_type": "markdown",
   "id": "bfe0c012",
   "metadata": {},
   "source": [
    "Get a specific document using `query_document`:"
   ]
  },
  {
   "cell_type": "code",
   "execution_count": null,
   "id": "2f03dfb9",
   "metadata": {},
   "outputs": [],
   "source": [
    "matches = client.query_document({\"@type\"  : \"Content\",\n",
    "                                 \"type_of\": \"Movie\",\n",
    "                                 \"release_year\": \"2020\"})\n",
    "\n",
    "# matches comes back as a iterable that can be convert into a list\n",
    "print(list(matches))"
   ]
  },
  {
   "cell_type": "markdown",
   "id": "4038762f",
   "metadata": {},
   "source": [
    "If you want to get a specific number of records, just add `count=number` when calling both functions:"
   ]
  },
  {
   "cell_type": "code",
   "execution_count": null,
   "id": "c434149c",
   "metadata": {},
   "outputs": [],
   "source": [
    "documents = client.get_all_documents(count=10)\n",
    "\n",
    "matches = client.query_document({\"@type\"  : \"Content\",\n",
    "                                 \"type_of\": \"Movie\",\n",
    "                                 \"release_year\": \"2020\"}, count=10)"
   ]
  },
  {
   "cell_type": "markdown",
   "id": "fb3addb8",
   "metadata": {},
   "source": [
    "## Commit history\n",
    "Get the whole commit history:\n",
    "\n",
    "Check the [documentation](https://terminusdb.github.io/terminusdb-client-python/woqlClient.html) for more information."
   ]
  },
  {
   "cell_type": "code",
   "execution_count": null,
   "id": "7fc4e468",
   "metadata": {},
   "outputs": [],
   "source": [
    "client.get_commit_history()"
   ]
  },
  {
   "cell_type": "markdown",
   "id": "d45dfab4",
   "metadata": {},
   "source": [
    "## Branches\n",
    "`main` is the default branch when you create a new TerminusDB database. You can manage branches in your database with the Python client and run any of the following tasks:\n",
    "- Create branch\n",
    "- Delete branch\n",
    "- List branches\n",
    "\n",
    "### Create branch\n",
    "You can create a new branch by calling the `create_branch` method, passing the name of the new branch and the `empty` variable as parameters. When `empty` is set to `False`, a new branch will be created, containing the schema and data inserted into the database previously. If set to `True`, an empty branch will be created."
   ]
  },
  {
   "cell_type": "code",
   "execution_count": null,
   "id": "2981f172",
   "metadata": {},
   "outputs": [],
   "source": [
    "client.create_branch(\"some_branch\", empty=False)\n",
    "\n",
    "client.create_branch(\"some_branch\", empty=True)"
   ]
  },
  {
   "cell_type": "markdown",
   "id": "e95ba237",
   "metadata": {},
   "source": [
    "### Delete branch\n",
    "You can delete a branch by calling the `delete` and passing the name of the branch as parameter."
   ]
  },
  {
   "cell_type": "code",
   "execution_count": null,
   "id": "f18c4e77",
   "metadata": {},
   "outputs": [],
   "source": [
    "client.delete_branch(\"some_branch\")"
   ]
  },
  {
   "cell_type": "markdown",
   "id": "c25d3420",
   "metadata": {},
   "source": [
    "### List branches\n",
    "If you want to get a list of the branches, call the `get_all_branches` method. This method will return a list with details of the branches in your database."
   ]
  },
  {
   "cell_type": "code",
   "execution_count": null,
   "id": "a9d0a782",
   "metadata": {},
   "outputs": [],
   "source": [
    "branches = client.get_all_branches()\n",
    "\n",
    "print(branches)\n",
    "\n",
    "# Output:\n",
    "# [{'@id': 'Branch/main', '@type': 'Branch', 'head': 'ValidCommit/ofxzh4i6jb9arf0nx5nicffhgcqxjco', 'name': 'main'}]"
   ]
  },
  {
   "cell_type": "markdown",
   "id": "809a6c8c",
   "metadata": {},
   "source": [
    "## Time Travel\n",
    "\n",
    "You can reset a branch to a particular commit, squash a branch and rebase using following functions"
   ]
  },
  {
   "cell_type": "markdown",
   "id": "ddf38cc3",
   "metadata": {},
   "source": [
    "### Reset to commit\n",
    "Reset the current branch HEAD to the specified commit path. "
   ]
  },
  {
   "cell_type": "code",
   "execution_count": null,
   "id": "be647236",
   "metadata": {},
   "outputs": [],
   "source": [
    "client.reset('hvatquoq9531k1u223v4azcdr1bfyde')"
   ]
  },
  {
   "cell_type": "markdown",
   "id": "86d6a168",
   "metadata": {},
   "source": [
    "### Squash\n",
    "Squash the current branch HEAD into a commit."
   ]
  },
  {
   "cell_type": "code",
   "execution_count": null,
   "id": "5731302e",
   "metadata": {},
   "outputs": [],
   "source": [
    "commit_res = client.squash('This is a squash commit message!',\"username\")\n",
    "\n",
    "# reset to the squash commit \n",
    "client.reset(commit_res['api:commit'],use_path=True)"
   ]
  },
  {
   "cell_type": "markdown",
   "id": "7919d080",
   "metadata": {},
   "source": [
    "### Rebase\n",
    "Rebase the current branch onto the specified remote branch"
   ]
  },
  {
   "cell_type": "code",
   "execution_count": null,
   "id": "7a73fff4",
   "metadata": {},
   "outputs": [],
   "source": [
    "client.rebase(\"main\")"
   ]
  },
  {
   "cell_type": "markdown",
   "id": "f28ab0fc",
   "metadata": {},
   "source": [
    "Check the [documentation](https://terminusdb.github.io/terminusdb-client-python/woqlClient.html) for more information."
   ]
  }
 ],
 "metadata": {
  "kernelspec": {
   "display_name": "Python 3 (ipykernel)",
   "language": "python",
   "name": "python3"
  },
  "language_info": {
   "codemirror_mode": {
    "name": "ipython",
    "version": 3
   },
   "file_extension": ".py",
   "mimetype": "text/x-python",
   "name": "python",
   "nbconvert_exporter": "python",
   "pygments_lexer": "ipython3",
   "version": "3.7.11"
  }
 },
 "nbformat": 4,
 "nbformat_minor": 5
}
